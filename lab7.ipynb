{
  "cells": [
    {
      "cell_type": "markdown",
      "id": "2c01d229-b690-4d43-9356-b3e03026e0d7",
      "metadata": {
        "id": "2c01d229-b690-4d43-9356-b3e03026e0d7"
      },
      "source": [
        "## 🔧 1. Installation"
      ]
    },
    {
      "cell_type": "markdown",
      "id": "9f6fc617-0580-40e4-a132-84a4aa81fba6",
      "metadata": {
        "id": "9f6fc617-0580-40e4-a132-84a4aa81fba6"
      },
      "source": [
        "You can install PySpark via pip:\n",
        "```\n",
        "pip install pyspark\n",
        "```\n",
        "To verify the installation, run the following command in Python:"
      ]
    },
    {
      "cell_type": "code",
      "execution_count": 29,
      "id": "4045cab8-f55b-4a00-8728-e54fef9c99d3",
      "metadata": {
        "colab": {
          "base_uri": "https://localhost:8080/"
        },
        "id": "4045cab8-f55b-4a00-8728-e54fef9c99d3",
        "outputId": "8ed39a6d-2282-479b-b803-8d5bdf7764db"
      },
      "outputs": [
        {
          "output_type": "stream",
          "name": "stdout",
          "text": [
            "3.5.1\n"
          ]
        }
      ],
      "source": [
        "import pyspark\n",
        "print(pyspark.__version__)"
      ]
    },
    {
      "cell_type": "markdown",
      "id": "873eef98-5769-466a-81f0-ce35a7eada6b",
      "metadata": {
        "id": "873eef98-5769-466a-81f0-ce35a7eada6b"
      },
      "source": [
        "Before intializing PySpark, please make sure your computer installed Java 8 or later, but Java 9+ can sometimes cause issues. To check your Java version, run:\n",
        "```{sh}\n",
        "java -version\n",
        "```\n",
        "You should see something like:\n",
        "```\n",
        "java version \"1.8.0_281\"\n",
        "```\n",
        "If Java is not installed, install it trough the link\n",
        "-  MacBook: [Install Java on MacBook](https://www.java.com/en/download/) (Check if your computer has Intel or Apple M CPU first)\n",
        "-  Windows: [Install Java on PC](https://www.java.com/download/ie_manual.jsp)"
      ]
    },
    {
      "cell_type": "markdown",
      "id": "6e4bb245-6e8a-4990-9472-ecfcf9ae9bbf",
      "metadata": {
        "id": "6e4bb245-6e8a-4990-9472-ecfcf9ae9bbf"
      },
      "source": [
        "## 🚀 2. Start a Spark Session"
      ]
    },
    {
      "cell_type": "code",
      "execution_count": 30,
      "id": "7acef92e-5093-4859-9ca5-c91af793a9bc",
      "metadata": {
        "id": "7acef92e-5093-4859-9ca5-c91af793a9bc"
      },
      "outputs": [],
      "source": [
        "from pyspark.sql import SparkSession\n",
        "\n",
        "spark = SparkSession.builder \\\n",
        "    .appName(\"PySpark_Tutorial\") \\\n",
        "    .master(\"local[*]\") \\\n",
        "    .getOrCreate()"
      ]
    },
    {
      "cell_type": "markdown",
      "id": "b40ef85b-ad74-4d48-a7c6-6d4c0bb3a77f",
      "metadata": {
        "id": "b40ef85b-ad74-4d48-a7c6-6d4c0bb3a77f"
      },
      "source": [
        "## 📂 3. Load and Explore Data\n",
        "The data required for this example is saved at s3://de300spring2025/dinglin_xia/data/adult.csv.\n",
        "\n",
        "Assuming your file is named \"adult.csv\" and contains a column \"filtered\" (JSON array of words):\n",
        "We’ll walk through several important steps:\n",
        "\n",
        "1. Feature Engineering\n",
        "\n",
        "2. Bias Analysis on Marital Status\n",
        "\n",
        "3. Joining with Supplemental Gender Data\n",
        "\n",
        "4. Exporting Final Data"
      ]
    },
    {
      "cell_type": "code",
      "execution_count": 31,
      "id": "6bbe3712-567a-46be-84cc-66dccc795810",
      "metadata": {
        "id": "6bbe3712-567a-46be-84cc-66dccc795810"
      },
      "outputs": [],
      "source": [
        "from pyspark.sql import SparkSession\n",
        "from pyspark.sql.types import StructType, StructField, IntegerType, StringType, FloatType\n",
        "from pyspark.sql.dataframe import DataFrame\n",
        "from pyspark.sql.functions import col, when, isnan, isnull, count, avg, trim\n",
        "import os"
      ]
    },
    {
      "cell_type": "code",
      "execution_count": 32,
      "id": "a0feb1a8-a60d-4b3f-9c1c-4b9dcbf8c1eb",
      "metadata": {
        "id": "a0feb1a8-a60d-4b3f-9c1c-4b9dcbf8c1eb"
      },
      "outputs": [],
      "source": [
        "DATA_FOLDER = \"data\"\n",
        "# source https://www.statista.com/statistics/242030/marital-status-of-the-us-population-by-sex/\n",
        "# the first value is male and the second is for female\n",
        "MARITAL_STATUS_BY_GENDER = [\n",
        "    [\"Never-married\", 47.35, 41.81],\n",
        "    [\"Married-AF-spouse\", 67.54, 68.33],\n",
        "    [\"Widowed\", 3.58, 11.61],\n",
        "    [\"Divorced\", 10.82, 15.09]\n",
        "]\n",
        "MARITAL_STATUS_BY_GENDER_COLUMNS = [\"marital_status_statistics\", \"male\", \"female\"]"
      ]
    },
    {
      "cell_type": "code",
      "execution_count": 33,
      "id": "001d819f-2cc6-4342-b7a8-ee3fe21565c6",
      "metadata": {
        "id": "001d819f-2cc6-4342-b7a8-ee3fe21565c6"
      },
      "outputs": [],
      "source": [
        "def read_data(spark: SparkSession) -> DataFrame:\n",
        "    \"\"\"\n",
        "    read data based on the given schema; this is much faster than spark determining the schema\n",
        "    \"\"\"\n",
        "\n",
        "    # Define the schema for the dataset\n",
        "    schema = StructType([\n",
        "        StructField(\"age\", IntegerType(), True),\n",
        "        StructField(\"workclass\", StringType(), True),\n",
        "        StructField(\"fnlwgt\", FloatType(), True),\n",
        "        StructField(\"education\", StringType(), True),\n",
        "        StructField(\"education_num\", FloatType(), True),\n",
        "        StructField(\"marital_status\", StringType(), True),\n",
        "        StructField(\"occupation\", StringType(), True),\n",
        "        StructField(\"relationship\", StringType(), True),\n",
        "        StructField(\"race\", StringType(), True),\n",
        "        StructField(\"sex\", StringType(), True),\n",
        "        StructField(\"capital_gain\", FloatType(), True),\n",
        "        StructField(\"capital_loss\", FloatType(), True),\n",
        "        StructField(\"hours_per_week\", FloatType(), True),\n",
        "        StructField(\"native_country\", StringType(), True),\n",
        "        StructField(\"income\", StringType(), True)\n",
        "    ])\n",
        "\n",
        "    # Read the dataset\n",
        "    data = spark.read \\\n",
        "        .schema(schema) \\\n",
        "        .option(\"header\", \"false\") \\\n",
        "        .option(\"inferSchema\", \"false\") \\\n",
        "        .csv(os.path.join(DATA_FOLDER,\"*.csv\"))\n",
        "\n",
        "    data = data.repartition(8)\n",
        "\n",
        "    float_columns = [f.name for f in data.schema.fields if isinstance(f.dataType, FloatType)]\n",
        "    for v in float_columns:\n",
        "        data = data.withColumn(v, data[v].cast(IntegerType()))\n",
        "\n",
        "    # Get the names of all StringType columns\n",
        "    string_columns = [f.name for f in data.schema.fields if isinstance(f.dataType, StringType)]\n",
        "\n",
        "    # Remove leading and trailing spaces in all string columns\n",
        "    for column in string_columns:\n",
        "        data = data.withColumn(column, trim(data[column]))\n",
        "\n",
        "    # Show the first 5 rows of the dataset\n",
        "    data.show(5)\n",
        "\n",
        "    return data"
      ]
    },
    {
      "cell_type": "code",
      "execution_count": 34,
      "id": "a00d1148-ba19-4e77-9e11-9d78b0af2124",
      "metadata": {
        "id": "a00d1148-ba19-4e77-9e11-9d78b0af2124"
      },
      "outputs": [],
      "source": [
        "def missing_values(data: DataFrame) -> DataFrame:\n",
        "    \"\"\"\n",
        "    count the number of samples with missing values for each row\n",
        "    remove such samples\n",
        "    \"\"\"\n",
        "\n",
        "    missing_values = data.select([count(when(isnan(c) | isnull(c), c)).alias(c) for c in data.columns])\n",
        "\n",
        "    # Show the missing values count per column\n",
        "    missing_values.show()\n",
        "\n",
        "    # Get the number of samples in the DataFrame\n",
        "    num_samples = data.count()\n",
        "\n",
        "    # Print the number of samples\n",
        "    print(\"Number of samples:\", num_samples)\n",
        "\n",
        "    data = data.dropna()\n",
        "\n",
        "    return data"
      ]
    },
    {
      "cell_type": "markdown",
      "id": "23e17741-06c7-47a6-b399-e7457604feda",
      "metadata": {
        "id": "23e17741-06c7-47a6-b399-e7457604feda"
      },
      "source": [
        "### 📌 Feature Engineering Function\n",
        "📖 Explanation:\n",
        "This function programmatically finds all integer features and creates new features by multiplying each pair. It helps capture interaction effects for models or exploratory analysis."
      ]
    },
    {
      "cell_type": "code",
      "execution_count": 35,
      "id": "7c2cf776-3fd6-45a7-8420-b4a34f280c1a",
      "metadata": {
        "id": "7c2cf776-3fd6-45a7-8420-b4a34f280c1a"
      },
      "outputs": [],
      "source": [
        "def feature_engineering(data: DataFrame) -> DataFrame:\n",
        "    \"\"\"\n",
        "    Calculate the product of each pair of integer features\n",
        "    \"\"\"\n",
        "    # Identify all integer-type columns in the dataset\n",
        "    integer_columns = [f.name for f in data.schema.fields if isinstance(f.dataType, IntegerType)]\n",
        "\n",
        "    # For each pair of integer columns, compute a new column that is their product\n",
        "    for i, col1 in enumerate(integer_columns):\n",
        "        for col2 in integer_columns[i:]:  # Avoid duplicate pairs\n",
        "            product_col_name = f\"{col1}_x_{col2}\"\n",
        "            data = data.withColumn(product_col_name, col(col1) * col(col2))\n",
        "\n",
        "    # Preview first 5 rows to check new columns\n",
        "    data.show(5)\n",
        "\n",
        "    return data"
      ]
    },
    {
      "cell_type": "markdown",
      "id": "126bc286-d8a4-43c8-9622-f77f130de689",
      "metadata": {
        "id": "126bc286-d8a4-43c8-9622-f77f130de689"
      },
      "source": [
        "### 📌 Analyze Bias by Marital Status\n",
        "📖 Explanation:\n",
        "This function investigates if capital_gain varies significantly with marital_status. It also filters and inspects a specific subgroup — divorced individuals — to facilitate further analysis or visualization."
      ]
    },
    {
      "cell_type": "code",
      "execution_count": 36,
      "id": "ba7fe919-a492-4ab1-b81a-8ed349da2922",
      "metadata": {
        "id": "ba7fe919-a492-4ab1-b81a-8ed349da2922"
      },
      "outputs": [],
      "source": [
        "def bias_marital_status(data: DataFrame):\n",
        "    \"\"\"\n",
        "    Analyze if there's a bias in capital gain by marital status\n",
        "    \"\"\"\n",
        "    # Group by marital status and compute average capital gain\n",
        "    average_capital_gain = data.groupBy(\"marital_status\").agg(avg(\"capital_gain\").alias(\"average_capital_gain\"))\n",
        "    average_capital_gain.show()\n",
        "\n",
        "    # Filter only rows with marital_status == \"Divorced\"\n",
        "    divorced_data = data.filter(data.marital_status == \"Divorced\")\n",
        "    divorced_data.show(5)"
      ]
    },
    {
      "cell_type": "markdown",
      "id": "1903cc2d-0257-47f1-98be-30d4a7efd81c",
      "metadata": {
        "id": "1903cc2d-0257-47f1-98be-30d4a7efd81c"
      },
      "source": [
        "### 📌 Join with External Gender Statistics\n",
        "📖 Explanation:\n",
        "This function enriches the dataset by joining it with an external dataset containing U.S. gender distribution by marital status. The `outer` join ensures we keep unmatched records for completeness."
      ]
    },
    {
      "cell_type": "code",
      "execution_count": 37,
      "id": "74d546c6-97a3-48da-99ce-4fa7bab4e468",
      "metadata": {
        "id": "74d546c6-97a3-48da-99ce-4fa7bab4e468"
      },
      "outputs": [],
      "source": [
        "def join_with_US_gender(spark: SparkSession, data: DataFrame):\n",
        "    \"\"\"\n",
        "    Join with external data about marital status statistics by gender\n",
        "    \"\"\"\n",
        "    # Example data (assumed predefined in MARITAL_STATUS_BY_GENDER & *_COLUMNS)\n",
        "    us_df = spark.createDataFrame(MARITAL_STATUS_BY_GENDER, MARITAL_STATUS_BY_GENDER_COLUMNS)\n",
        "\n",
        "    # Outer join on marital_status\n",
        "    return data.join(us_df, data.marital_status == us_df.marital_status_statistics, 'outer')"
      ]
    },
    {
      "cell_type": "markdown",
      "id": "2822d331-8057-430a-88e7-0e8a0fbddd9b",
      "metadata": {
        "id": "2822d331-8057-430a-88e7-0e8a0fbddd9b"
      },
      "source": [
        "### ✅ Main Pipeline\n",
        "📖 Explanation:\n",
        "This function ties all preprocessing steps together and writes the result to a CSV file. You can run it with main() in a PySpark environment."
      ]
    },
    {
      "cell_type": "code",
      "execution_count": 38,
      "id": "7cb5e52c-cece-495e-9644-87a2de0a8b5d",
      "metadata": {
        "id": "7cb5e52c-cece-495e-9644-87a2de0a8b5d"
      },
      "outputs": [],
      "source": [
        "def main():\n",
        "    spark = SparkSession.builder.appName(\"Read Adult Dataset\").getOrCreate()\n",
        "\n",
        "    data = read_data(spark)               # Load dataset\n",
        "    data = missing_values(data)           # Handle missing values (assumed implemented)\n",
        "    data = feature_engineering(data)      # Add interaction features\n",
        "    bias_marital_status(data)             # Analyze capital gain by marital status\n",
        "    data = join_with_US_gender(spark, data)  # Enrich with gender statistics\n",
        "\n",
        "    data.show(5)                          # Preview final data\n",
        "    data.write.format('csv').option('header', 'true').mode('overwrite').save('saved.csv')  # Save"
      ]
    },
    {
      "cell_type": "code",
      "execution_count": 39,
      "id": "aa374bbe-e287-4e36-b9ee-758deeec36a6",
      "metadata": {
        "colab": {
          "base_uri": "https://localhost:8080/"
        },
        "id": "aa374bbe-e287-4e36-b9ee-758deeec36a6",
        "outputId": "44e0bfd5-1ba8-425b-9c59-cdcce397c49a"
      },
      "outputs": [
        {
          "output_type": "stream",
          "name": "stdout",
          "text": [
            "+---+---------+------+------------+-------------+------------------+---------------+------------+------------------+------+------------+------------+--------------+--------------+------+\n",
            "|age|workclass|fnlwgt|   education|education_num|    marital_status|     occupation|relationship|              race|   sex|capital_gain|capital_loss|hours_per_week|native_country|income|\n",
            "+---+---------+------+------------+-------------+------------------+---------------+------------+------------------+------+------------+------------+--------------+--------------+------+\n",
            "| 45|  Private|191098|   Bachelors|           13|Married-civ-spouse| Prof-specialty|     Husband|Asian-Pac-Islander|  Male|           0|           0|            40|         China| <=50K|\n",
            "| 46|  Private|250821| Prof-school|           15|          Divorced|Farming-fishing|   Unmarried|             White|  Male|           0|           0|            48| United-States| <=50K|\n",
            "| 53|  Private|242859|Some-college|           10|         Separated|   Adm-clerical|   Own-child|             White|  Male|           0|           0|            40|          Cuba| <=50K|\n",
            "| 30|  Private| 54929|     HS-grad|            9|Married-civ-spouse|          Sales|     Husband|             White|  Male|           0|           0|            55| United-States| <=50K|\n",
            "| 31|  Private|234500|   Bachelors|           13|Married-civ-spouse|   Adm-clerical|        Wife|             White|Female|           0|           0|            40| United-States| <=50K|\n",
            "+---+---------+------+------------+-------------+------------------+---------------+------------+------------------+------+------------+------------+--------------+--------------+------+\n",
            "only showing top 5 rows\n",
            "\n",
            "+---+---------+------+---------+-------------+--------------+----------+------------+----+---+------------+------------+--------------+--------------+------+\n",
            "|age|workclass|fnlwgt|education|education_num|marital_status|occupation|relationship|race|sex|capital_gain|capital_loss|hours_per_week|native_country|income|\n",
            "+---+---------+------+---------+-------------+--------------+----------+------------+----+---+------------+------------+--------------+--------------+------+\n",
            "|  1|        1|     1|        1|            1|             1|         1|           1|   1|  1|           1|           1|             1|             1|     1|\n",
            "+---+---------+------+---------+-------------+--------------+----------+------------+----+---+------------+------------+--------------+--------------+------+\n",
            "\n",
            "Number of samples: 48843\n",
            "+---+---------+------+------------+-------------+------------------+---------------+------------+------------------+------+------------+------------+--------------+--------------+------+---------+------------+-------------------+------------------+------------------+--------------------+---------------+----------------------+---------------------+---------------------+-----------------------+-----------------------------+----------------------------+----------------------------+------------------------------+---------------------------+---------------------------+-----------------------------+---------------------------+-----------------------------+-------------------------------+\n",
            "|age|workclass|fnlwgt|   education|education_num|    marital_status|     occupation|relationship|              race|   sex|capital_gain|capital_loss|hours_per_week|native_country|income|age_x_age|age_x_fnlwgt|age_x_education_num|age_x_capital_gain|age_x_capital_loss|age_x_hours_per_week|fnlwgt_x_fnlwgt|fnlwgt_x_education_num|fnlwgt_x_capital_gain|fnlwgt_x_capital_loss|fnlwgt_x_hours_per_week|education_num_x_education_num|education_num_x_capital_gain|education_num_x_capital_loss|education_num_x_hours_per_week|capital_gain_x_capital_gain|capital_gain_x_capital_loss|capital_gain_x_hours_per_week|capital_loss_x_capital_loss|capital_loss_x_hours_per_week|hours_per_week_x_hours_per_week|\n",
            "+---+---------+------+------------+-------------+------------------+---------------+------------+------------------+------+------------+------------+--------------+--------------+------+---------+------------+-------------------+------------------+------------------+--------------------+---------------+----------------------+---------------------+---------------------+-----------------------+-----------------------------+----------------------------+----------------------------+------------------------------+---------------------------+---------------------------+-----------------------------+---------------------------+-----------------------------+-------------------------------+\n",
            "| 45|  Private|191098|   Bachelors|           13|Married-civ-spouse| Prof-specialty|     Husband|Asian-Pac-Islander|  Male|           0|           0|            40|         China| <=50K|     2025|     8599410|                585|                 0|                 0|                1800|    -2136260060|               2484274|                    0|                    0|                7643920|                          169|                           0|                           0|                           520|                          0|                          0|                            0|                          0|                            0|                           1600|\n",
            "| 46|  Private|250821| Prof-school|           15|          Divorced|Farming-fishing|   Unmarried|             White|  Male|           0|           0|            48| United-States| <=50K|     2116|    11537766|                690|                 0|                 0|                2208|    -1513335399|               3762315|                    0|                    0|               12039408|                          225|                           0|                           0|                           720|                          0|                          0|                            0|                          0|                            0|                           2304|\n",
            "| 53|  Private|242859|Some-college|           10|         Separated|   Adm-clerical|   Own-child|             White|  Male|           0|           0|            40|          Cuba| <=50K|     2809|    12871527|                530|                 0|                 0|                2120|    -1149048263|               2428590|                    0|                    0|                9714360|                          100|                           0|                           0|                           400|                          0|                          0|                            0|                          0|                            0|                           1600|\n",
            "| 30|  Private| 54929|     HS-grad|            9|Married-civ-spouse|          Sales|     Husband|             White|  Male|           0|           0|            55| United-States| <=50K|      900|     1647870|                270|                 0|                 0|                1650|    -1277772255|                494361|                    0|                    0|                3021095|                           81|                           0|                           0|                           495|                          0|                          0|                            0|                          0|                            0|                           3025|\n",
            "| 31|  Private|234500|   Bachelors|           13|Married-civ-spouse|   Adm-clerical|        Wife|             White|Female|           0|           0|            40| United-States| <=50K|      961|     7269500|                403|                 0|                 0|                1240|     -844324848|               3048500|                    0|                    0|                9380000|                          169|                           0|                           0|                           520|                          0|                          0|                            0|                          0|                            0|                           1600|\n",
            "+---+---------+------+------------+-------------+------------------+---------------+------------+------------------+------+------------+------------+--------------+--------------+------+---------+------------+-------------------+------------------+------------------+--------------------+---------------+----------------------+---------------------+---------------------+-----------------------+-----------------------------+----------------------------+----------------------------+------------------------------+---------------------------+---------------------------+-----------------------------+---------------------------+-----------------------------+-------------------------------+\n",
            "only showing top 5 rows\n",
            "\n",
            "+--------------------+--------------------+\n",
            "|      marital_status|average_capital_gain|\n",
            "+--------------------+--------------------+\n",
            "|           Separated|   581.8424836601307|\n",
            "|       Never-married|    384.382639449029|\n",
            "|Married-spouse-ab...|   629.0047770700637|\n",
            "|            Divorced|   793.6755615860094|\n",
            "|             Widowed|   603.6442687747035|\n",
            "|   Married-AF-spouse|  2971.6216216216217|\n",
            "|  Married-civ-spouse|  1739.7006121810625|\n",
            "+--------------------+--------------------+\n",
            "\n",
            "+---+---------+------+------------+-------------+--------------+---------------+--------------+-----+------+------------+------------+--------------+--------------+------+---------+------------+-------------------+------------------+------------------+--------------------+---------------+----------------------+---------------------+---------------------+-----------------------+-----------------------------+----------------------------+----------------------------+------------------------------+---------------------------+---------------------------+-----------------------------+---------------------------+-----------------------------+-------------------------------+\n",
            "|age|workclass|fnlwgt|   education|education_num|marital_status|     occupation|  relationship| race|   sex|capital_gain|capital_loss|hours_per_week|native_country|income|age_x_age|age_x_fnlwgt|age_x_education_num|age_x_capital_gain|age_x_capital_loss|age_x_hours_per_week|fnlwgt_x_fnlwgt|fnlwgt_x_education_num|fnlwgt_x_capital_gain|fnlwgt_x_capital_loss|fnlwgt_x_hours_per_week|education_num_x_education_num|education_num_x_capital_gain|education_num_x_capital_loss|education_num_x_hours_per_week|capital_gain_x_capital_gain|capital_gain_x_capital_loss|capital_gain_x_hours_per_week|capital_loss_x_capital_loss|capital_loss_x_hours_per_week|hours_per_week_x_hours_per_week|\n",
            "+---+---------+------+------------+-------------+--------------+---------------+--------------+-----+------+------------+------------+--------------+--------------+------+---------+------------+-------------------+------------------+------------------+--------------------+---------------+----------------------+---------------------+---------------------+-----------------------+-----------------------------+----------------------------+----------------------------+------------------------------+---------------------------+---------------------------+-----------------------------+---------------------------+-----------------------------+-------------------------------+\n",
            "| 36|  Private|353524|     HS-grad|            9|      Divorced|Exec-managerial|     Own-child|White|Female|        1831|           0|            40| United-States| <=50K|     1296|    12726864|                324|             65916|                 0|                1440|      425166992|               3181716|            647302444|                    0|               14140960|                           81|                       16479|                           0|                           360|                    3352561|                          0|                        73240|                          0|                            0|                           1600|\n",
            "| 41|  Private|144947|   Bachelors|           13|      Divorced|Exec-managerial|     Unmarried|Black|Female|           0|           0|            40| United-States| <=50K|     1681|     5942827|                533|                 0|                 0|                1640|     -465203671|               1884311|                    0|                    0|                5797880|                          169|                           0|                           0|                           520|                          0|                          0|                            0|                          0|                            0|                           1600|\n",
            "| 49|  Private| 97883|   Bachelors|           13|      Divorced|Exec-managerial|     Unmarried|White|Female|           0|           0|            40| United-States| <=50K|     2401|     4796267|                637|                 0|                 0|                1960|      991147097|               1272479|                    0|                    0|                3915320|                          169|                           0|                           0|                           520|                          0|                          0|                            0|                          0|                            0|                           1600|\n",
            "| 43|  Private|271807|Some-college|           10|      Divorced|   Craft-repair| Not-in-family|White|  Male|           0|           0|            40| United-States| <=50K|     1849|    11687701|                430|                 0|                 0|                1720|      864601217|               2718070|                    0|                    0|               10872280|                          100|                           0|                           0|                           400|                          0|                          0|                            0|                          0|                            0|                           1600|\n",
            "| 22|        ?|313786|     HS-grad|            9|      Divorced|              ?|Other-relative|Black|Female|           0|           0|            40| United-States| <=50K|      484|     6903292|                198|                 0|                 0|                 880|     -322594012|               2824074|                    0|                    0|               12551440|                           81|                           0|                           0|                           360|                          0|                          0|                            0|                          0|                            0|                           1600|\n",
            "+---+---------+------+------------+-------------+--------------+---------------+--------------+-----+------+------------+------------+--------------+--------------+------+---------+------------+-------------------+------------------+------------------+--------------------+---------------+----------------------+---------------------+---------------------+-----------------------+-----------------------------+----------------------------+----------------------------+------------------------------+---------------------------+---------------------------+-----------------------------+---------------------------+-----------------------------+-------------------------------+\n",
            "only showing top 5 rows\n",
            "\n",
            "+---+---------+------+------------+-------------+--------------------+-----------------+-------------+------------------+----+------------+------------+--------------+--------------+------+---------+------------+-------------------+------------------+------------------+--------------------+---------------+----------------------+---------------------+---------------------+-----------------------+-----------------------------+----------------------------+----------------------------+------------------------------+---------------------------+---------------------------+-----------------------------+---------------------------+-----------------------------+-------------------------------+-------------------------+----+------+\n",
            "|age|workclass|fnlwgt|   education|education_num|      marital_status|       occupation| relationship|              race| sex|capital_gain|capital_loss|hours_per_week|native_country|income|age_x_age|age_x_fnlwgt|age_x_education_num|age_x_capital_gain|age_x_capital_loss|age_x_hours_per_week|fnlwgt_x_fnlwgt|fnlwgt_x_education_num|fnlwgt_x_capital_gain|fnlwgt_x_capital_loss|fnlwgt_x_hours_per_week|education_num_x_education_num|education_num_x_capital_gain|education_num_x_capital_loss|education_num_x_hours_per_week|capital_gain_x_capital_gain|capital_gain_x_capital_loss|capital_gain_x_hours_per_week|capital_loss_x_capital_loss|capital_loss_x_hours_per_week|hours_per_week_x_hours_per_week|marital_status_statistics|male|female|\n",
            "+---+---------+------+------------+-------------+--------------------+-----------------+-------------+------------------+----+------------+------------+--------------+--------------+------+---------+------------+-------------------+------------------+------------------+--------------------+---------------+----------------------+---------------------+---------------------+-----------------------+-----------------------------+----------------------------+----------------------------+------------------------------+---------------------------+---------------------------+-----------------------------+---------------------------+-----------------------------+-------------------------------+-------------------------+----+------+\n",
            "| 35|  Private|169104|Some-college|           10|Married-spouse-ab...|     Craft-repair|Not-in-family|             White|Male|           0|           0|            40| United-States| <=50K|     1225|     5918640|                350|                 0|                 0|                1400|    -1468608256|               1691040|                    0|                    0|                6764160|                          100|                           0|                           0|                           400|                          0|                          0|                            0|                          0|                            0|                           1600|                     NULL|NULL|  NULL|\n",
            "| 46|  Private|197731|   Assoc-voc|           11|Married-spouse-ab...|Machine-op-inspct|    Unmarried|             White|Male|           0|           0|            40| United-States| <=50K|     2116|     9095626|                506|                 0|                 0|                1840|      442842697|               2175041|                    0|                    0|                7909240|                          121|                           0|                           0|                           440|                          0|                          0|                            0|                          0|                            0|                           1600|                     NULL|NULL|  NULL|\n",
            "| 43|Local-gov|117022|     HS-grad|            9|Married-spouse-ab...|  Farming-fishing|    Unmarried|             Black|Male|           0|           0|            40| United-States| <=50K|     1849|     5031946|                387|                 0|                 0|                1720|      809246596|               1053198|                    0|                    0|                4680880|                           81|                           0|                           0|                           360|                          0|                          0|                            0|                          0|                            0|                           1600|                     NULL|NULL|  NULL|\n",
            "| 41|  Private| 79797|     HS-grad|            9|Married-spouse-ab...|   Prof-specialty|Not-in-family|Asian-Pac-Islander|Male|           0|           0|            40|         Japan|  >50K|     1681|     3271677|                369|                 0|                 0|                1640|     2072593913|                718173|                    0|                    0|                3191880|                           81|                           0|                           0|                           360|                          0|                          0|                            0|                          0|                            0|                           1600|                     NULL|NULL|  NULL|\n",
            "| 48|  Private|344415|   Bachelors|           13|Married-spouse-ab...|   Prof-specialty|Not-in-family|             White|Male|           0|           0|            37| United-States|  >50K|     2304|    16531920|                624|                 0|                 0|                1776|    -1637392063|               4477395|                    0|                    0|               12743355|                          169|                           0|                           0|                           481|                          0|                          0|                            0|                          0|                            0|                           1369|                     NULL|NULL|  NULL|\n",
            "+---+---------+------+------------+-------------+--------------------+-----------------+-------------+------------------+----+------------+------------+--------------+--------------+------+---------+------------+-------------------+------------------+------------------+--------------------+---------------+----------------------+---------------------+---------------------+-----------------------+-----------------------------+----------------------------+----------------------------+------------------------------+---------------------------+---------------------------+-----------------------------+---------------------------+-----------------------------+-------------------------------+-------------------------+----+------+\n",
            "only showing top 5 rows\n",
            "\n"
          ]
        }
      ],
      "source": [
        "main()"
      ]
    },
    {
      "cell_type": "markdown",
      "id": "a39619e2-5dfa-4671-9ffc-0ce9b8b8c90e",
      "metadata": {
        "id": "a39619e2-5dfa-4671-9ffc-0ce9b8b8c90e"
      },
      "source": [
        "## Lab Assignment\n",
        "### Word Count\n",
        "1 Save only the words that have count greater or equal to 3."
      ]
    },
    {
      "cell_type": "code",
      "execution_count": 45,
      "id": "670d34cc-1161-48b9-8591-62b9ca1c3598",
      "metadata": {
        "colab": {
          "base_uri": "https://localhost:8080/"
        },
        "id": "670d34cc-1161-48b9-8591-62b9ca1c3598",
        "outputId": "62e72ec1-8ff4-43b1-c441-1693437c6461"
      },
      "outputs": [
        {
          "output_type": "stream",
          "name": "stdout",
          "text": [
            "+-------+-----+\n",
            "|   word|count|\n",
            "+-------+-----+\n",
            "|      0|91367|\n",
            "|    50k|48842|\n",
            "| united|43832|\n",
            "| states|43832|\n",
            "|  white|41762|\n",
            "|married|39161|\n",
            "|private|33906|\n",
            "|   male|32650|\n",
            "|     40|23990|\n",
            "| spouse|23044|\n",
            "|    civ|22379|\n",
            "|husband|19716|\n",
            "|    not|16445|\n",
            "| female|16192|\n",
            "|  never|16127|\n",
            "|      9|15811|\n",
            "|   grad|15784|\n",
            "|     hs|15784|\n",
            "|     in|12583|\n",
            "| family|12583|\n",
            "+-------+-----+\n",
            "only showing top 20 rows\n",
            "\n"
          ]
        }
      ],
      "source": [
        "# --- WORD COUNT: keep only words that appear ≥ 3 times ---\n",
        "\n",
        "from pyspark.sql.functions import col, explode, split, lower\n",
        "\n",
        "text_df = spark.read.text(\"/content/data\")   # no wildcard\n",
        "\n",
        "# 2️⃣  Tokenise -> one row per word\n",
        "words_df = (text_df\n",
        "            .select(explode(\n",
        "                split(lower(col(\"value\")), r\"\\W+\")    # split on non-word chars\n",
        "            ).alias(\"word\"))\n",
        "            .filter(col(\"word\") != \"\"))               # drop empty strings\n",
        "\n",
        "# 3️⃣  Count and keep only words with frequency ≥ 3\n",
        "result_df = (words_df\n",
        "             .groupBy(\"word\")\n",
        "             .count()\n",
        "             .filter(col(\"count\") >= 3)\n",
        "             .orderBy(col(\"count\").desc()))\n",
        "\n",
        "result_df.show(20)    # peek at the top 20\n",
        "\n",
        "# 4️⃣  SAVE the filtered counts (one CSV file, overwrite if rerun)\n",
        "result_df.coalesce(1).write.csv(\n",
        "    path=\"word_counts_ge3\",\n",
        "    header=True,\n",
        "    mode=\"overwrite\"\n",
        ")\n"
      ]
    },
    {
      "cell_type": "code",
      "source": [],
      "metadata": {
        "id": "VaS6yV-EESO4"
      },
      "id": "VaS6yV-EESO4",
      "execution_count": null,
      "outputs": []
    }
  ],
  "metadata": {
    "kernelspec": {
      "display_name": "Python 3 (ipykernel)",
      "language": "python",
      "name": "python3"
    },
    "language_info": {
      "codemirror_mode": {
        "name": "ipython",
        "version": 3
      },
      "file_extension": ".py",
      "mimetype": "text/x-python",
      "name": "python",
      "nbconvert_exporter": "python",
      "pygments_lexer": "ipython3",
      "version": "3.8.8"
    },
    "colab": {
      "provenance": []
    }
  },
  "nbformat": 4,
  "nbformat_minor": 5
}