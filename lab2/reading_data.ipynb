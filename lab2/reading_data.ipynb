{
 "cells": [
  {
   "cell_type": "code",
   "execution_count": 5,
   "id": "90ce1209-8538-4e15-ab9e-c97c99c24fcf",
   "metadata": {},
   "outputs": [
    {
     "name": "stdout",
     "output_type": "stream",
     "text": [
      "  first_name last_name  age  gender      occupation           city state\n",
      "0       John       Doe   30    Male        Engineer       New York    NY\n",
      "1       Jane       Doe   28  Female        Engineer    Los Angeles    CA\n",
      "2        Bob     Smith   45    Male         Analyst        Chicago    IL\n",
      "3      Alice   Johnson   35  Female  Data Scientist  San Francisco    CA\n",
      "4        Tom     Brown   50    Male          Lawyer          Miami    FL\n"
     ]
    }
   ],
   "source": [
    "import boto3\n",
    "from io import BytesIO\n",
    "import pandas as pd\n",
    "# you need to change the credentials for yourself\n",
    "# Note that aws_access_key_id changes from time to time\n",
    "\n",
    "s3 = boto3.client(\n",
    "    \"s3\",\n",
    "    aws_access_key_id=os.getenv(\"AWS_ACCESS_KEY_ID\"),\n",
    "    aws_secret_access_key=os.getenv(\"AWS_SECRET_ACCESS_KEY\"),\n",
    "    aws_session_token=os.getenv(\"AWS_SESSION_TOKEN\")  # optional\n",
    ")\n",
    "bucket_name = 'de300spring2025'\n",
    "object_key = 'dinglin_xia/sample_dataset.csv'\n",
    "csv_obj = s3.get_object(Bucket=bucket_name, Key=object_key)\n",
    "body = csv_obj['Body']\n",
    "csv_string = body.read().decode('utf-8')\n",
    "df = pd.read_csv(BytesIO(csv_string.encode()))\n",
    "print(df.head())"
   ]
  },
  {
   "cell_type": "code",
   "execution_count": null,
   "id": "694ee87a-5fde-477f-a1af-fecf78e5680e",
   "metadata": {},
   "outputs": [],
   "source": []
  }
 ],
 "metadata": {
  "kernelspec": {
   "display_name": "Python 3 (ipykernel)",
   "language": "python",
   "name": "python3"
  },
  "language_info": {
   "codemirror_mode": {
    "name": "ipython",
    "version": 3
   },
   "file_extension": ".py",
   "mimetype": "text/x-python",
   "name": "python",
   "nbconvert_exporter": "python",
   "pygments_lexer": "ipython3",
   "version": "3.11.6"
  }
 },
 "nbformat": 4,
 "nbformat_minor": 5
}
